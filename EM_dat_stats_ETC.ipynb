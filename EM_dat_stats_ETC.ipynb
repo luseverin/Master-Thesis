{
 "cells": [
  {
   "cell_type": "code",
   "execution_count": 11,
   "metadata": {},
   "outputs": [],
   "source": [
    "import numpy as np\n",
    "import pandas as pd\n",
    "import matplotlib.pyplot as plt\n"
   ]
  },
  {
   "cell_type": "code",
   "execution_count": 12,
   "metadata": {},
   "outputs": [
    {
     "name": "stderr",
     "output_type": "stream",
     "text": [
      "/home/lseverino/.conda/envs/climada_env/lib/python3.8/site-packages/openpyxl/styles/stylesheet.py:226: UserWarning: Workbook contains no default style, apply openpyxl's default\n",
      "  warn(\"Workbook contains no default style, apply openpyxl's default\")\n"
     ]
    }
   ],
   "source": [
    "ETC_data = pd.read_excel('../inputdata/impacts/emdat_EU_1960_2022_ETC.xlsx',header=6)"
   ]
  },
  {
   "cell_type": "code",
   "execution_count": 13,
   "metadata": {},
   "outputs": [
    {
     "data": {
      "text/html": [
       "<div>\n",
       "<style scoped>\n",
       "    .dataframe tbody tr th:only-of-type {\n",
       "        vertical-align: middle;\n",
       "    }\n",
       "\n",
       "    .dataframe tbody tr th {\n",
       "        vertical-align: top;\n",
       "    }\n",
       "\n",
       "    .dataframe thead th {\n",
       "        text-align: right;\n",
       "    }\n",
       "</style>\n",
       "<table border=\"1\" class=\"dataframe\">\n",
       "  <thead>\n",
       "    <tr style=\"text-align: right;\">\n",
       "      <th></th>\n",
       "      <th>Dis No</th>\n",
       "      <th>Year</th>\n",
       "      <th>Seq</th>\n",
       "      <th>Glide</th>\n",
       "      <th>Disaster Group</th>\n",
       "      <th>Disaster Subgroup</th>\n",
       "      <th>Disaster Type</th>\n",
       "      <th>Disaster Subtype</th>\n",
       "      <th>Disaster Subsubtype</th>\n",
       "      <th>Event Name</th>\n",
       "      <th>...</th>\n",
       "      <th>Reconstruction Costs, Adjusted ('000 US$)</th>\n",
       "      <th>Insured Damages ('000 US$)</th>\n",
       "      <th>Insured Damages, Adjusted ('000 US$)</th>\n",
       "      <th>Total Damages ('000 US$)</th>\n",
       "      <th>Total Damages, Adjusted ('000 US$)</th>\n",
       "      <th>CPI</th>\n",
       "      <th>Adm Level</th>\n",
       "      <th>Admin1 Code</th>\n",
       "      <th>Admin2 Code</th>\n",
       "      <th>Geo Locations</th>\n",
       "    </tr>\n",
       "  </thead>\n",
       "  <tbody>\n",
       "    <tr>\n",
       "      <th>0</th>\n",
       "      <td>1998-0007-GBR</td>\n",
       "      <td>1998</td>\n",
       "      <td>7</td>\n",
       "      <td>NaN</td>\n",
       "      <td>Natural</td>\n",
       "      <td>Meteorological</td>\n",
       "      <td>Storm</td>\n",
       "      <td>Extra-tropical storm</td>\n",
       "      <td>NaN</td>\n",
       "      <td>Cilly, Désirée et Fanny</td>\n",
       "      <td>...</td>\n",
       "      <td>NaN</td>\n",
       "      <td>320000.0</td>\n",
       "      <td>531938.0</td>\n",
       "      <td>500000.0</td>\n",
       "      <td>831153.0</td>\n",
       "      <td>60.157411</td>\n",
       "      <td>NaN</td>\n",
       "      <td>NaN</td>\n",
       "      <td>NaN</td>\n",
       "      <td>NaN</td>\n",
       "    </tr>\n",
       "    <tr>\n",
       "      <th>1</th>\n",
       "      <td>1998-0436-BEL</td>\n",
       "      <td>1998</td>\n",
       "      <td>436</td>\n",
       "      <td>NaN</td>\n",
       "      <td>Natural</td>\n",
       "      <td>Meteorological</td>\n",
       "      <td>Storm</td>\n",
       "      <td>Extra-tropical storm</td>\n",
       "      <td>NaN</td>\n",
       "      <td>Cilly, Desiree, Fanny</td>\n",
       "      <td>...</td>\n",
       "      <td>NaN</td>\n",
       "      <td>NaN</td>\n",
       "      <td>NaN</td>\n",
       "      <td>500.0</td>\n",
       "      <td>831.0</td>\n",
       "      <td>60.157411</td>\n",
       "      <td>NaN</td>\n",
       "      <td>NaN</td>\n",
       "      <td>NaN</td>\n",
       "      <td>NaN</td>\n",
       "    </tr>\n",
       "    <tr>\n",
       "      <th>2</th>\n",
       "      <td>1998-0436-CHE</td>\n",
       "      <td>1998</td>\n",
       "      <td>436</td>\n",
       "      <td>NaN</td>\n",
       "      <td>Natural</td>\n",
       "      <td>Meteorological</td>\n",
       "      <td>Storm</td>\n",
       "      <td>Extra-tropical storm</td>\n",
       "      <td>NaN</td>\n",
       "      <td>Cilly, Desiree, Fanny</td>\n",
       "      <td>...</td>\n",
       "      <td>NaN</td>\n",
       "      <td>NaN</td>\n",
       "      <td>NaN</td>\n",
       "      <td>1000.0</td>\n",
       "      <td>1662.0</td>\n",
       "      <td>60.157411</td>\n",
       "      <td>NaN</td>\n",
       "      <td>NaN</td>\n",
       "      <td>NaN</td>\n",
       "      <td>NaN</td>\n",
       "    </tr>\n",
       "    <tr>\n",
       "      <th>3</th>\n",
       "      <td>1999-0571-BEL</td>\n",
       "      <td>1999</td>\n",
       "      <td>571</td>\n",
       "      <td>NaN</td>\n",
       "      <td>Natural</td>\n",
       "      <td>Meteorological</td>\n",
       "      <td>Storm</td>\n",
       "      <td>Extra-tropical storm</td>\n",
       "      <td>NaN</td>\n",
       "      <td>Lothar</td>\n",
       "      <td>...</td>\n",
       "      <td>NaN</td>\n",
       "      <td>10000.0</td>\n",
       "      <td>16267.0</td>\n",
       "      <td>50000.0</td>\n",
       "      <td>81336.0</td>\n",
       "      <td>61.473667</td>\n",
       "      <td>NaN</td>\n",
       "      <td>NaN</td>\n",
       "      <td>NaN</td>\n",
       "      <td>NaN</td>\n",
       "    </tr>\n",
       "    <tr>\n",
       "      <th>4</th>\n",
       "      <td>1999-0571-CHE</td>\n",
       "      <td>1999</td>\n",
       "      <td>571</td>\n",
       "      <td>NaN</td>\n",
       "      <td>Natural</td>\n",
       "      <td>Meteorological</td>\n",
       "      <td>Storm</td>\n",
       "      <td>Extra-tropical storm</td>\n",
       "      <td>NaN</td>\n",
       "      <td>Lothar</td>\n",
       "      <td>...</td>\n",
       "      <td>NaN</td>\n",
       "      <td>800000.0</td>\n",
       "      <td>1301370.0</td>\n",
       "      <td>1500000.0</td>\n",
       "      <td>2440069.0</td>\n",
       "      <td>61.473667</td>\n",
       "      <td>NaN</td>\n",
       "      <td>NaN</td>\n",
       "      <td>NaN</td>\n",
       "      <td>NaN</td>\n",
       "    </tr>\n",
       "    <tr>\n",
       "      <th>...</th>\n",
       "      <td>...</td>\n",
       "      <td>...</td>\n",
       "      <td>...</td>\n",
       "      <td>...</td>\n",
       "      <td>...</td>\n",
       "      <td>...</td>\n",
       "      <td>...</td>\n",
       "      <td>...</td>\n",
       "      <td>...</td>\n",
       "      <td>...</td>\n",
       "      <td>...</td>\n",
       "      <td>...</td>\n",
       "      <td>...</td>\n",
       "      <td>...</td>\n",
       "      <td>...</td>\n",
       "      <td>...</td>\n",
       "      <td>...</td>\n",
       "      <td>...</td>\n",
       "      <td>...</td>\n",
       "      <td>...</td>\n",
       "      <td>...</td>\n",
       "    </tr>\n",
       "    <tr>\n",
       "      <th>134</th>\n",
       "      <td>2022-0112-GBR</td>\n",
       "      <td>2022</td>\n",
       "      <td>112</td>\n",
       "      <td>NaN</td>\n",
       "      <td>Natural</td>\n",
       "      <td>Meteorological</td>\n",
       "      <td>Storm</td>\n",
       "      <td>Extra-tropical storm</td>\n",
       "      <td>NaN</td>\n",
       "      <td>Storm 'Eunice' (Zeynep)</td>\n",
       "      <td>...</td>\n",
       "      <td>NaN</td>\n",
       "      <td>NaN</td>\n",
       "      <td>NaN</td>\n",
       "      <td>NaN</td>\n",
       "      <td>NaN</td>\n",
       "      <td>NaN</td>\n",
       "      <td>NaN</td>\n",
       "      <td>NaN</td>\n",
       "      <td>NaN</td>\n",
       "      <td>NaN</td>\n",
       "    </tr>\n",
       "    <tr>\n",
       "      <th>135</th>\n",
       "      <td>2022-0112-IRL</td>\n",
       "      <td>2022</td>\n",
       "      <td>112</td>\n",
       "      <td>NaN</td>\n",
       "      <td>Natural</td>\n",
       "      <td>Meteorological</td>\n",
       "      <td>Storm</td>\n",
       "      <td>Extra-tropical storm</td>\n",
       "      <td>NaN</td>\n",
       "      <td>Storm 'Eunice' (Zeynep)</td>\n",
       "      <td>...</td>\n",
       "      <td>NaN</td>\n",
       "      <td>NaN</td>\n",
       "      <td>NaN</td>\n",
       "      <td>NaN</td>\n",
       "      <td>NaN</td>\n",
       "      <td>NaN</td>\n",
       "      <td>NaN</td>\n",
       "      <td>NaN</td>\n",
       "      <td>NaN</td>\n",
       "      <td>NaN</td>\n",
       "    </tr>\n",
       "    <tr>\n",
       "      <th>136</th>\n",
       "      <td>2022-0112-NLD</td>\n",
       "      <td>2022</td>\n",
       "      <td>112</td>\n",
       "      <td>NaN</td>\n",
       "      <td>Natural</td>\n",
       "      <td>Meteorological</td>\n",
       "      <td>Storm</td>\n",
       "      <td>Extra-tropical storm</td>\n",
       "      <td>NaN</td>\n",
       "      <td>Storm 'Eunice' (Zeynep)</td>\n",
       "      <td>...</td>\n",
       "      <td>NaN</td>\n",
       "      <td>NaN</td>\n",
       "      <td>NaN</td>\n",
       "      <td>NaN</td>\n",
       "      <td>NaN</td>\n",
       "      <td>NaN</td>\n",
       "      <td>NaN</td>\n",
       "      <td>NaN</td>\n",
       "      <td>NaN</td>\n",
       "      <td>NaN</td>\n",
       "    </tr>\n",
       "    <tr>\n",
       "      <th>137</th>\n",
       "      <td>2022-0097-POL</td>\n",
       "      <td>2022</td>\n",
       "      <td>97</td>\n",
       "      <td>NaN</td>\n",
       "      <td>Natural</td>\n",
       "      <td>Meteorological</td>\n",
       "      <td>Storm</td>\n",
       "      <td>Extra-tropical storm</td>\n",
       "      <td>NaN</td>\n",
       "      <td>Storm 'Dudley' (Ylenia)</td>\n",
       "      <td>...</td>\n",
       "      <td>NaN</td>\n",
       "      <td>NaN</td>\n",
       "      <td>NaN</td>\n",
       "      <td>NaN</td>\n",
       "      <td>NaN</td>\n",
       "      <td>NaN</td>\n",
       "      <td>NaN</td>\n",
       "      <td>NaN</td>\n",
       "      <td>NaN</td>\n",
       "      <td>NaN</td>\n",
       "    </tr>\n",
       "    <tr>\n",
       "      <th>138</th>\n",
       "      <td>2022-0112-POL</td>\n",
       "      <td>2022</td>\n",
       "      <td>112</td>\n",
       "      <td>NaN</td>\n",
       "      <td>Natural</td>\n",
       "      <td>Meteorological</td>\n",
       "      <td>Storm</td>\n",
       "      <td>Extra-tropical storm</td>\n",
       "      <td>NaN</td>\n",
       "      <td>Storm 'Eunice' (Zeynep)</td>\n",
       "      <td>...</td>\n",
       "      <td>NaN</td>\n",
       "      <td>NaN</td>\n",
       "      <td>NaN</td>\n",
       "      <td>NaN</td>\n",
       "      <td>NaN</td>\n",
       "      <td>NaN</td>\n",
       "      <td>NaN</td>\n",
       "      <td>NaN</td>\n",
       "      <td>NaN</td>\n",
       "      <td>NaN</td>\n",
       "    </tr>\n",
       "  </tbody>\n",
       "</table>\n",
       "<p>139 rows × 50 columns</p>\n",
       "</div>"
      ],
      "text/plain": [
       "            Dis No  Year  Seq  Glide Disaster Group Disaster Subgroup  \\\n",
       "0    1998-0007-GBR  1998    7    NaN        Natural    Meteorological   \n",
       "1    1998-0436-BEL  1998  436    NaN        Natural    Meteorological   \n",
       "2    1998-0436-CHE  1998  436    NaN        Natural    Meteorological   \n",
       "3    1999-0571-BEL  1999  571    NaN        Natural    Meteorological   \n",
       "4    1999-0571-CHE  1999  571    NaN        Natural    Meteorological   \n",
       "..             ...   ...  ...    ...            ...               ...   \n",
       "134  2022-0112-GBR  2022  112    NaN        Natural    Meteorological   \n",
       "135  2022-0112-IRL  2022  112    NaN        Natural    Meteorological   \n",
       "136  2022-0112-NLD  2022  112    NaN        Natural    Meteorological   \n",
       "137  2022-0097-POL  2022   97    NaN        Natural    Meteorological   \n",
       "138  2022-0112-POL  2022  112    NaN        Natural    Meteorological   \n",
       "\n",
       "    Disaster Type      Disaster Subtype  Disaster Subsubtype  \\\n",
       "0           Storm  Extra-tropical storm                  NaN   \n",
       "1           Storm  Extra-tropical storm                  NaN   \n",
       "2           Storm  Extra-tropical storm                  NaN   \n",
       "3           Storm  Extra-tropical storm                  NaN   \n",
       "4           Storm  Extra-tropical storm                  NaN   \n",
       "..            ...                   ...                  ...   \n",
       "134         Storm  Extra-tropical storm                  NaN   \n",
       "135         Storm  Extra-tropical storm                  NaN   \n",
       "136         Storm  Extra-tropical storm                  NaN   \n",
       "137         Storm  Extra-tropical storm                  NaN   \n",
       "138         Storm  Extra-tropical storm                  NaN   \n",
       "\n",
       "                  Event Name  ... Reconstruction Costs, Adjusted ('000 US$)  \\\n",
       "0    Cilly, Désirée et Fanny  ...                                       NaN   \n",
       "1      Cilly, Desiree, Fanny  ...                                       NaN   \n",
       "2      Cilly, Desiree, Fanny  ...                                       NaN   \n",
       "3                     Lothar  ...                                       NaN   \n",
       "4                     Lothar  ...                                       NaN   \n",
       "..                       ...  ...                                       ...   \n",
       "134  Storm 'Eunice' (Zeynep)  ...                                       NaN   \n",
       "135  Storm 'Eunice' (Zeynep)  ...                                       NaN   \n",
       "136  Storm 'Eunice' (Zeynep)  ...                                       NaN   \n",
       "137  Storm 'Dudley' (Ylenia)  ...                                       NaN   \n",
       "138  Storm 'Eunice' (Zeynep)  ...                                       NaN   \n",
       "\n",
       "    Insured Damages ('000 US$) Insured Damages, Adjusted ('000 US$)  \\\n",
       "0                     320000.0                             531938.0   \n",
       "1                          NaN                                  NaN   \n",
       "2                          NaN                                  NaN   \n",
       "3                      10000.0                              16267.0   \n",
       "4                     800000.0                            1301370.0   \n",
       "..                         ...                                  ...   \n",
       "134                        NaN                                  NaN   \n",
       "135                        NaN                                  NaN   \n",
       "136                        NaN                                  NaN   \n",
       "137                        NaN                                  NaN   \n",
       "138                        NaN                                  NaN   \n",
       "\n",
       "    Total Damages ('000 US$) Total Damages, Adjusted ('000 US$)        CPI  \\\n",
       "0                   500000.0                           831153.0  60.157411   \n",
       "1                      500.0                              831.0  60.157411   \n",
       "2                     1000.0                             1662.0  60.157411   \n",
       "3                    50000.0                            81336.0  61.473667   \n",
       "4                  1500000.0                          2440069.0  61.473667   \n",
       "..                       ...                                ...        ...   \n",
       "134                      NaN                                NaN        NaN   \n",
       "135                      NaN                                NaN        NaN   \n",
       "136                      NaN                                NaN        NaN   \n",
       "137                      NaN                                NaN        NaN   \n",
       "138                      NaN                                NaN        NaN   \n",
       "\n",
       "    Adm Level Admin1 Code Admin2 Code Geo Locations  \n",
       "0         NaN         NaN         NaN           NaN  \n",
       "1         NaN         NaN         NaN           NaN  \n",
       "2         NaN         NaN         NaN           NaN  \n",
       "3         NaN         NaN         NaN           NaN  \n",
       "4         NaN         NaN         NaN           NaN  \n",
       "..        ...         ...         ...           ...  \n",
       "134       NaN         NaN         NaN           NaN  \n",
       "135       NaN         NaN         NaN           NaN  \n",
       "136       NaN         NaN         NaN           NaN  \n",
       "137       NaN         NaN         NaN           NaN  \n",
       "138       NaN         NaN         NaN           NaN  \n",
       "\n",
       "[139 rows x 50 columns]"
      ]
     },
     "execution_count": 13,
     "metadata": {},
     "output_type": "execute_result"
    }
   ],
   "source": [
    "ETC_data"
   ]
  },
  {
   "cell_type": "code",
   "execution_count": 14,
   "metadata": {},
   "outputs": [
    {
     "data": {
      "text/html": [
       "<div>\n",
       "<style scoped>\n",
       "    .dataframe tbody tr th:only-of-type {\n",
       "        vertical-align: middle;\n",
       "    }\n",
       "\n",
       "    .dataframe tbody tr th {\n",
       "        vertical-align: top;\n",
       "    }\n",
       "\n",
       "    .dataframe thead th {\n",
       "        text-align: right;\n",
       "    }\n",
       "</style>\n",
       "<table border=\"1\" class=\"dataframe\">\n",
       "  <thead>\n",
       "    <tr style=\"text-align: right;\">\n",
       "      <th></th>\n",
       "      <th>Year</th>\n",
       "      <th>Seq</th>\n",
       "      <th>Glide</th>\n",
       "      <th>Disaster Subsubtype</th>\n",
       "      <th>Origin</th>\n",
       "      <th>Aid Contribution</th>\n",
       "      <th>Dis Mag Value</th>\n",
       "      <th>Latitude</th>\n",
       "      <th>Longitude</th>\n",
       "      <th>Local Time</th>\n",
       "      <th>...</th>\n",
       "      <th>No Affected</th>\n",
       "      <th>No Homeless</th>\n",
       "      <th>Total Affected</th>\n",
       "      <th>Reconstruction Costs ('000 US$)</th>\n",
       "      <th>Reconstruction Costs, Adjusted ('000 US$)</th>\n",
       "      <th>Insured Damages ('000 US$)</th>\n",
       "      <th>Insured Damages, Adjusted ('000 US$)</th>\n",
       "      <th>Total Damages ('000 US$)</th>\n",
       "      <th>Total Damages, Adjusted ('000 US$)</th>\n",
       "      <th>CPI</th>\n",
       "    </tr>\n",
       "  </thead>\n",
       "  <tbody>\n",
       "    <tr>\n",
       "      <th>count</th>\n",
       "      <td>139.000000</td>\n",
       "      <td>139.000000</td>\n",
       "      <td>0.0</td>\n",
       "      <td>0.0</td>\n",
       "      <td>0.0</td>\n",
       "      <td>0.0</td>\n",
       "      <td>50.000000</td>\n",
       "      <td>1.00</td>\n",
       "      <td>1.0</td>\n",
       "      <td>0.0</td>\n",
       "      <td>...</td>\n",
       "      <td>1.700000e+01</td>\n",
       "      <td>0.0</td>\n",
       "      <td>3.600000e+01</td>\n",
       "      <td>1.0</td>\n",
       "      <td>1.0</td>\n",
       "      <td>4.500000e+01</td>\n",
       "      <td>4.500000e+01</td>\n",
       "      <td>7.600000e+01</td>\n",
       "      <td>7.600000e+01</td>\n",
       "      <td>128.000000</td>\n",
       "    </tr>\n",
       "    <tr>\n",
       "      <th>mean</th>\n",
       "      <td>2010.136691</td>\n",
       "      <td>254.187050</td>\n",
       "      <td>NaN</td>\n",
       "      <td>NaN</td>\n",
       "      <td>NaN</td>\n",
       "      <td>NaN</td>\n",
       "      <td>154.900000</td>\n",
       "      <td>42.24</td>\n",
       "      <td>-2.6</td>\n",
       "      <td>NaN</td>\n",
       "      <td>...</td>\n",
       "      <td>2.316348e+05</td>\n",
       "      <td>NaN</td>\n",
       "      <td>1.093954e+05</td>\n",
       "      <td>2450000.0</td>\n",
       "      <td>3985446.0</td>\n",
       "      <td>5.398230e+05</td>\n",
       "      <td>7.703595e+05</td>\n",
       "      <td>6.839161e+05</td>\n",
       "      <td>9.706050e+05</td>\n",
       "      <td>78.894772</td>\n",
       "    </tr>\n",
       "    <tr>\n",
       "      <th>std</th>\n",
       "      <td>7.587367</td>\n",
       "      <td>250.640732</td>\n",
       "      <td>NaN</td>\n",
       "      <td>NaN</td>\n",
       "      <td>NaN</td>\n",
       "      <td>NaN</td>\n",
       "      <td>31.656479</td>\n",
       "      <td>NaN</td>\n",
       "      <td>NaN</td>\n",
       "      <td>NaN</td>\n",
       "      <td>...</td>\n",
       "      <td>8.253123e+05</td>\n",
       "      <td>NaN</td>\n",
       "      <td>5.702056e+05</td>\n",
       "      <td>NaN</td>\n",
       "      <td>NaN</td>\n",
       "      <td>9.060143e+05</td>\n",
       "      <td>1.356781e+06</td>\n",
       "      <td>1.361408e+06</td>\n",
       "      <td>2.037003e+06</td>\n",
       "      <td>11.551054</td>\n",
       "    </tr>\n",
       "    <tr>\n",
       "      <th>min</th>\n",
       "      <td>1998.000000</td>\n",
       "      <td>3.000000</td>\n",
       "      <td>NaN</td>\n",
       "      <td>NaN</td>\n",
       "      <td>NaN</td>\n",
       "      <td>NaN</td>\n",
       "      <td>80.000000</td>\n",
       "      <td>42.24</td>\n",
       "      <td>-2.6</td>\n",
       "      <td>NaN</td>\n",
       "      <td>...</td>\n",
       "      <td>1.200000e+01</td>\n",
       "      <td>NaN</td>\n",
       "      <td>1.000000e+00</td>\n",
       "      <td>2450000.0</td>\n",
       "      <td>3985446.0</td>\n",
       "      <td>3.400000e+01</td>\n",
       "      <td>4.200000e+01</td>\n",
       "      <td>5.000000e+01</td>\n",
       "      <td>7.400000e+01</td>\n",
       "      <td>60.157411</td>\n",
       "    </tr>\n",
       "    <tr>\n",
       "      <th>25%</th>\n",
       "      <td>2005.000000</td>\n",
       "      <td>25.000000</td>\n",
       "      <td>NaN</td>\n",
       "      <td>NaN</td>\n",
       "      <td>NaN</td>\n",
       "      <td>NaN</td>\n",
       "      <td>130.000000</td>\n",
       "      <td>42.24</td>\n",
       "      <td>-2.6</td>\n",
       "      <td>NaN</td>\n",
       "      <td>...</td>\n",
       "      <td>2.000000e+02</td>\n",
       "      <td>NaN</td>\n",
       "      <td>4.750000e+00</td>\n",
       "      <td>2450000.0</td>\n",
       "      <td>3985446.0</td>\n",
       "      <td>3.500000e+04</td>\n",
       "      <td>4.574000e+04</td>\n",
       "      <td>2.600000e+04</td>\n",
       "      <td>3.362850e+04</td>\n",
       "      <td>71.025782</td>\n",
       "    </tr>\n",
       "    <tr>\n",
       "      <th>50%</th>\n",
       "      <td>2010.000000</td>\n",
       "      <td>88.000000</td>\n",
       "      <td>NaN</td>\n",
       "      <td>NaN</td>\n",
       "      <td>NaN</td>\n",
       "      <td>NaN</td>\n",
       "      <td>150.000000</td>\n",
       "      <td>42.24</td>\n",
       "      <td>-2.6</td>\n",
       "      <td>NaN</td>\n",
       "      <td>...</td>\n",
       "      <td>1.700000e+03</td>\n",
       "      <td>NaN</td>\n",
       "      <td>4.300000e+01</td>\n",
       "      <td>2450000.0</td>\n",
       "      <td>3985446.0</td>\n",
       "      <td>1.370000e+05</td>\n",
       "      <td>2.161000e+05</td>\n",
       "      <td>1.400000e+05</td>\n",
       "      <td>1.803770e+05</td>\n",
       "      <td>79.456304</td>\n",
       "    </tr>\n",
       "    <tr>\n",
       "      <th>75%</th>\n",
       "      <td>2018.000000</td>\n",
       "      <td>530.000000</td>\n",
       "      <td>NaN</td>\n",
       "      <td>NaN</td>\n",
       "      <td>NaN</td>\n",
       "      <td>NaN</td>\n",
       "      <td>180.000000</td>\n",
       "      <td>42.24</td>\n",
       "      <td>-2.6</td>\n",
       "      <td>NaN</td>\n",
       "      <td>...</td>\n",
       "      <td>3.000000e+03</td>\n",
       "      <td>NaN</td>\n",
       "      <td>1.550000e+03</td>\n",
       "      <td>2450000.0</td>\n",
       "      <td>3985446.0</td>\n",
       "      <td>6.500000e+05</td>\n",
       "      <td>8.756030e+05</td>\n",
       "      <td>5.125000e+05</td>\n",
       "      <td>6.559628e+05</td>\n",
       "      <td>85.971642</td>\n",
       "    </tr>\n",
       "    <tr>\n",
       "      <th>max</th>\n",
       "      <td>2022.000000</td>\n",
       "      <td>678.000000</td>\n",
       "      <td>NaN</td>\n",
       "      <td>NaN</td>\n",
       "      <td>NaN</td>\n",
       "      <td>NaN</td>\n",
       "      <td>220.000000</td>\n",
       "      <td>42.24</td>\n",
       "      <td>-2.6</td>\n",
       "      <td>NaN</td>\n",
       "      <td>...</td>\n",
       "      <td>3.400000e+06</td>\n",
       "      <td>NaN</td>\n",
       "      <td>3.400011e+06</td>\n",
       "      <td>2450000.0</td>\n",
       "      <td>3985446.0</td>\n",
       "      <td>4.450000e+06</td>\n",
       "      <td>7.238872e+06</td>\n",
       "      <td>8.000000e+06</td>\n",
       "      <td>1.301370e+07</td>\n",
       "      <td>100.000000</td>\n",
       "    </tr>\n",
       "  </tbody>\n",
       "</table>\n",
       "<p>8 rows × 28 columns</p>\n",
       "</div>"
      ],
      "text/plain": [
       "              Year         Seq  Glide  Disaster Subsubtype  Origin  \\\n",
       "count   139.000000  139.000000    0.0                  0.0     0.0   \n",
       "mean   2010.136691  254.187050    NaN                  NaN     NaN   \n",
       "std       7.587367  250.640732    NaN                  NaN     NaN   \n",
       "min    1998.000000    3.000000    NaN                  NaN     NaN   \n",
       "25%    2005.000000   25.000000    NaN                  NaN     NaN   \n",
       "50%    2010.000000   88.000000    NaN                  NaN     NaN   \n",
       "75%    2018.000000  530.000000    NaN                  NaN     NaN   \n",
       "max    2022.000000  678.000000    NaN                  NaN     NaN   \n",
       "\n",
       "       Aid Contribution  Dis Mag Value  Latitude  Longitude  Local Time  ...  \\\n",
       "count               0.0      50.000000      1.00        1.0         0.0  ...   \n",
       "mean                NaN     154.900000     42.24       -2.6         NaN  ...   \n",
       "std                 NaN      31.656479       NaN        NaN         NaN  ...   \n",
       "min                 NaN      80.000000     42.24       -2.6         NaN  ...   \n",
       "25%                 NaN     130.000000     42.24       -2.6         NaN  ...   \n",
       "50%                 NaN     150.000000     42.24       -2.6         NaN  ...   \n",
       "75%                 NaN     180.000000     42.24       -2.6         NaN  ...   \n",
       "max                 NaN     220.000000     42.24       -2.6         NaN  ...   \n",
       "\n",
       "        No Affected  No Homeless  Total Affected  \\\n",
       "count  1.700000e+01          0.0    3.600000e+01   \n",
       "mean   2.316348e+05          NaN    1.093954e+05   \n",
       "std    8.253123e+05          NaN    5.702056e+05   \n",
       "min    1.200000e+01          NaN    1.000000e+00   \n",
       "25%    2.000000e+02          NaN    4.750000e+00   \n",
       "50%    1.700000e+03          NaN    4.300000e+01   \n",
       "75%    3.000000e+03          NaN    1.550000e+03   \n",
       "max    3.400000e+06          NaN    3.400011e+06   \n",
       "\n",
       "       Reconstruction Costs ('000 US$)  \\\n",
       "count                              1.0   \n",
       "mean                         2450000.0   \n",
       "std                                NaN   \n",
       "min                          2450000.0   \n",
       "25%                          2450000.0   \n",
       "50%                          2450000.0   \n",
       "75%                          2450000.0   \n",
       "max                          2450000.0   \n",
       "\n",
       "       Reconstruction Costs, Adjusted ('000 US$)  Insured Damages ('000 US$)  \\\n",
       "count                                        1.0                4.500000e+01   \n",
       "mean                                   3985446.0                5.398230e+05   \n",
       "std                                          NaN                9.060143e+05   \n",
       "min                                    3985446.0                3.400000e+01   \n",
       "25%                                    3985446.0                3.500000e+04   \n",
       "50%                                    3985446.0                1.370000e+05   \n",
       "75%                                    3985446.0                6.500000e+05   \n",
       "max                                    3985446.0                4.450000e+06   \n",
       "\n",
       "       Insured Damages, Adjusted ('000 US$)  Total Damages ('000 US$)  \\\n",
       "count                          4.500000e+01              7.600000e+01   \n",
       "mean                           7.703595e+05              6.839161e+05   \n",
       "std                            1.356781e+06              1.361408e+06   \n",
       "min                            4.200000e+01              5.000000e+01   \n",
       "25%                            4.574000e+04              2.600000e+04   \n",
       "50%                            2.161000e+05              1.400000e+05   \n",
       "75%                            8.756030e+05              5.125000e+05   \n",
       "max                            7.238872e+06              8.000000e+06   \n",
       "\n",
       "       Total Damages, Adjusted ('000 US$)         CPI  \n",
       "count                        7.600000e+01  128.000000  \n",
       "mean                         9.706050e+05   78.894772  \n",
       "std                          2.037003e+06   11.551054  \n",
       "min                          7.400000e+01   60.157411  \n",
       "25%                          3.362850e+04   71.025782  \n",
       "50%                          1.803770e+05   79.456304  \n",
       "75%                          6.559628e+05   85.971642  \n",
       "max                          1.301370e+07  100.000000  \n",
       "\n",
       "[8 rows x 28 columns]"
      ]
     },
     "execution_count": 14,
     "metadata": {},
     "output_type": "execute_result"
    }
   ],
   "source": [
    "ETC_data.describe()"
   ]
  },
  {
   "cell_type": "code",
   "execution_count": 15,
   "metadata": {},
   "outputs": [],
   "source": [
    "# keep only useful data\n",
    "keep = ['Dis No','Event Name','Seq', 'Year','Country','Region','Dis Mag Value','Start Year', 'Start Month', 'Start Day', 'End Year', 'End Month',\n",
    "       'End Day', 'Total Deaths', 'No Injured', 'No Affected', 'No Homeless',\n",
    "       'Total Affected', 'Reconstruction Costs (\\'000 US$)',\n",
    "       'Insured Damages (\\'000 US$)', 'Total Damages (\\'000 US$)','Total Damages, Adjusted (\\'000 US$)']\n",
    "ETC_small = ETC_data[keep]"
   ]
  },
  {
   "cell_type": "code",
   "execution_count": 16,
   "metadata": {},
   "outputs": [
    {
     "data": {
      "text/plain": [
       "array(['United Kingdom of Great Britain and Northern Ireland (the)',\n",
       "       'Belgium', 'Switzerland', 'Spain', 'France', 'Netherlands (the)',\n",
       "       'Germany', 'Denmark', 'Ireland', 'Lithuania', 'Latvia', 'Poland',\n",
       "       'Sweden', 'Austria', 'Czech Republic (the)', 'Estonia',\n",
       "       'Russian Federation (the)', 'Norway', 'Belarus', 'Slovenia',\n",
       "       'Ukraine', 'Romania', 'Italy', 'Luxembourg', 'Portugal',\n",
       "       'Isle of Man'], dtype=object)"
      ]
     },
     "execution_count": 16,
     "metadata": {},
     "output_type": "execute_result"
    }
   ],
   "source": [
    "ETC_small.Country.unique()"
   ]
  },
  {
   "cell_type": "code",
   "execution_count": 17,
   "metadata": {},
   "outputs": [
    {
     "data": {
      "text/plain": [
       "array(['Cilly, Désirée et Fanny', 'Cilly, Desiree, Fanny', 'Lothar',\n",
       "       'Anatol', 'Martin', 'Jeannet', 'Calvann', 'Jeanett', 'Erwin',\n",
       "       'Kyrill', 'Emma', 'Klaus', 'Xynthia', 'Joachim', 'Storm Dirk',\n",
       "       'Storm Xaver', 'Storm Christian', 'Ulla', \"'Zeus'\",\n",
       "       \"'Friederike' (David)\", \"Storm 'Adrian'\", \"Storm 'Ciara' (Sabine)\",\n",
       "       \"Storm 'Amelie'\", 'Elsa, Fabien', \"'Gloria'\", nan,\n",
       "       \"Storm 'Dudley' (Ylenia)\", \"Storm 'Eunice' (Zeynep)\"], dtype=object)"
      ]
     },
     "execution_count": 17,
     "metadata": {},
     "output_type": "execute_result"
    }
   ],
   "source": [
    "ETC_small[\"Event Name\"].unique()"
   ]
  },
  {
   "cell_type": "code",
   "execution_count": 18,
   "metadata": {},
   "outputs": [],
   "source": [
    "#remove 2022\n",
    "ETC_small = ETC_small.where(ETC_small['Start Year']!=2022).dropna(how='all',axis=0)"
   ]
  },
  {
   "cell_type": "code",
   "execution_count": 19,
   "metadata": {},
   "outputs": [
    {
     "data": {
      "text/html": [
       "<div>\n",
       "<style scoped>\n",
       "    .dataframe tbody tr th:only-of-type {\n",
       "        vertical-align: middle;\n",
       "    }\n",
       "\n",
       "    .dataframe tbody tr th {\n",
       "        vertical-align: top;\n",
       "    }\n",
       "\n",
       "    .dataframe thead th {\n",
       "        text-align: right;\n",
       "    }\n",
       "</style>\n",
       "<table border=\"1\" class=\"dataframe\">\n",
       "  <thead>\n",
       "    <tr style=\"text-align: right;\">\n",
       "      <th></th>\n",
       "      <th>Dis No</th>\n",
       "      <th>Event Name</th>\n",
       "      <th>Seq</th>\n",
       "      <th>Year</th>\n",
       "      <th>Country</th>\n",
       "      <th>Region</th>\n",
       "      <th>Dis Mag Value</th>\n",
       "      <th>Start Year</th>\n",
       "      <th>Start Month</th>\n",
       "      <th>Start Day</th>\n",
       "      <th>...</th>\n",
       "      <th>End Day</th>\n",
       "      <th>Total Deaths</th>\n",
       "      <th>No Injured</th>\n",
       "      <th>No Affected</th>\n",
       "      <th>No Homeless</th>\n",
       "      <th>Total Affected</th>\n",
       "      <th>Reconstruction Costs ('000 US$)</th>\n",
       "      <th>Insured Damages ('000 US$)</th>\n",
       "      <th>Total Damages ('000 US$)</th>\n",
       "      <th>Total Damages, Adjusted ('000 US$)</th>\n",
       "    </tr>\n",
       "  </thead>\n",
       "  <tbody>\n",
       "    <tr>\n",
       "      <th>0</th>\n",
       "      <td>1998-0007-GBR</td>\n",
       "      <td>Cilly, Désirée et Fanny</td>\n",
       "      <td>7.0</td>\n",
       "      <td>1998.0</td>\n",
       "      <td>United Kingdom of Great Britain and Northern I...</td>\n",
       "      <td>Northern Europe</td>\n",
       "      <td>185.0</td>\n",
       "      <td>1998.0</td>\n",
       "      <td>1.0</td>\n",
       "      <td>1.0</td>\n",
       "      <td>...</td>\n",
       "      <td>6.0</td>\n",
       "      <td>15.0</td>\n",
       "      <td>NaN</td>\n",
       "      <td>3000.0</td>\n",
       "      <td>NaN</td>\n",
       "      <td>3000.0</td>\n",
       "      <td>NaN</td>\n",
       "      <td>320000.0</td>\n",
       "      <td>500000.0</td>\n",
       "      <td>831153.0</td>\n",
       "    </tr>\n",
       "    <tr>\n",
       "      <th>1</th>\n",
       "      <td>1998-0436-BEL</td>\n",
       "      <td>Cilly, Desiree, Fanny</td>\n",
       "      <td>436.0</td>\n",
       "      <td>1998.0</td>\n",
       "      <td>Belgium</td>\n",
       "      <td>Western Europe</td>\n",
       "      <td>NaN</td>\n",
       "      <td>1998.0</td>\n",
       "      <td>1.0</td>\n",
       "      <td>1.0</td>\n",
       "      <td>...</td>\n",
       "      <td>6.0</td>\n",
       "      <td>NaN</td>\n",
       "      <td>NaN</td>\n",
       "      <td>NaN</td>\n",
       "      <td>NaN</td>\n",
       "      <td>NaN</td>\n",
       "      <td>NaN</td>\n",
       "      <td>NaN</td>\n",
       "      <td>500.0</td>\n",
       "      <td>831.0</td>\n",
       "    </tr>\n",
       "    <tr>\n",
       "      <th>2</th>\n",
       "      <td>1998-0436-CHE</td>\n",
       "      <td>Cilly, Desiree, Fanny</td>\n",
       "      <td>436.0</td>\n",
       "      <td>1998.0</td>\n",
       "      <td>Switzerland</td>\n",
       "      <td>Western Europe</td>\n",
       "      <td>NaN</td>\n",
       "      <td>1998.0</td>\n",
       "      <td>1.0</td>\n",
       "      <td>1.0</td>\n",
       "      <td>...</td>\n",
       "      <td>6.0</td>\n",
       "      <td>NaN</td>\n",
       "      <td>NaN</td>\n",
       "      <td>NaN</td>\n",
       "      <td>NaN</td>\n",
       "      <td>NaN</td>\n",
       "      <td>NaN</td>\n",
       "      <td>NaN</td>\n",
       "      <td>1000.0</td>\n",
       "      <td>1662.0</td>\n",
       "    </tr>\n",
       "    <tr>\n",
       "      <th>3</th>\n",
       "      <td>1999-0571-BEL</td>\n",
       "      <td>Lothar</td>\n",
       "      <td>571.0</td>\n",
       "      <td>1999.0</td>\n",
       "      <td>Belgium</td>\n",
       "      <td>Western Europe</td>\n",
       "      <td>NaN</td>\n",
       "      <td>1999.0</td>\n",
       "      <td>12.0</td>\n",
       "      <td>25.0</td>\n",
       "      <td>...</td>\n",
       "      <td>27.0</td>\n",
       "      <td>2.0</td>\n",
       "      <td>NaN</td>\n",
       "      <td>NaN</td>\n",
       "      <td>NaN</td>\n",
       "      <td>NaN</td>\n",
       "      <td>NaN</td>\n",
       "      <td>10000.0</td>\n",
       "      <td>50000.0</td>\n",
       "      <td>81336.0</td>\n",
       "    </tr>\n",
       "    <tr>\n",
       "      <th>4</th>\n",
       "      <td>1999-0571-CHE</td>\n",
       "      <td>Lothar</td>\n",
       "      <td>571.0</td>\n",
       "      <td>1999.0</td>\n",
       "      <td>Switzerland</td>\n",
       "      <td>Western Europe</td>\n",
       "      <td>210.0</td>\n",
       "      <td>1999.0</td>\n",
       "      <td>12.0</td>\n",
       "      <td>25.0</td>\n",
       "      <td>...</td>\n",
       "      <td>27.0</td>\n",
       "      <td>12.0</td>\n",
       "      <td>NaN</td>\n",
       "      <td>NaN</td>\n",
       "      <td>NaN</td>\n",
       "      <td>NaN</td>\n",
       "      <td>NaN</td>\n",
       "      <td>800000.0</td>\n",
       "      <td>1500000.0</td>\n",
       "      <td>2440069.0</td>\n",
       "    </tr>\n",
       "    <tr>\n",
       "      <th>...</th>\n",
       "      <td>...</td>\n",
       "      <td>...</td>\n",
       "      <td>...</td>\n",
       "      <td>...</td>\n",
       "      <td>...</td>\n",
       "      <td>...</td>\n",
       "      <td>...</td>\n",
       "      <td>...</td>\n",
       "      <td>...</td>\n",
       "      <td>...</td>\n",
       "      <td>...</td>\n",
       "      <td>...</td>\n",
       "      <td>...</td>\n",
       "      <td>...</td>\n",
       "      <td>...</td>\n",
       "      <td>...</td>\n",
       "      <td>...</td>\n",
       "      <td>...</td>\n",
       "      <td>...</td>\n",
       "      <td>...</td>\n",
       "      <td>...</td>\n",
       "    </tr>\n",
       "    <tr>\n",
       "      <th>123</th>\n",
       "      <td>2019-0626-PRT</td>\n",
       "      <td>Elsa, Fabien</td>\n",
       "      <td>626.0</td>\n",
       "      <td>2019.0</td>\n",
       "      <td>Portugal</td>\n",
       "      <td>Southern Europe</td>\n",
       "      <td>NaN</td>\n",
       "      <td>2019.0</td>\n",
       "      <td>12.0</td>\n",
       "      <td>19.0</td>\n",
       "      <td>...</td>\n",
       "      <td>22.0</td>\n",
       "      <td>2.0</td>\n",
       "      <td>NaN</td>\n",
       "      <td>NaN</td>\n",
       "      <td>NaN</td>\n",
       "      <td>NaN</td>\n",
       "      <td>NaN</td>\n",
       "      <td>NaN</td>\n",
       "      <td>NaN</td>\n",
       "      <td>NaN</td>\n",
       "    </tr>\n",
       "    <tr>\n",
       "      <th>124</th>\n",
       "      <td>2020-0051-POL</td>\n",
       "      <td>Storm 'Ciara' (Sabine)</td>\n",
       "      <td>51.0</td>\n",
       "      <td>2020.0</td>\n",
       "      <td>Poland</td>\n",
       "      <td>Eastern Europe</td>\n",
       "      <td>NaN</td>\n",
       "      <td>2020.0</td>\n",
       "      <td>2.0</td>\n",
       "      <td>8.0</td>\n",
       "      <td>...</td>\n",
       "      <td>9.0</td>\n",
       "      <td>3.0</td>\n",
       "      <td>6.0</td>\n",
       "      <td>NaN</td>\n",
       "      <td>NaN</td>\n",
       "      <td>6.0</td>\n",
       "      <td>NaN</td>\n",
       "      <td>NaN</td>\n",
       "      <td>NaN</td>\n",
       "      <td>NaN</td>\n",
       "    </tr>\n",
       "    <tr>\n",
       "      <th>125</th>\n",
       "      <td>2020-0051-SVN</td>\n",
       "      <td>Storm 'Ciara' (Sabine)</td>\n",
       "      <td>51.0</td>\n",
       "      <td>2020.0</td>\n",
       "      <td>Slovenia</td>\n",
       "      <td>Southern Europe</td>\n",
       "      <td>NaN</td>\n",
       "      <td>2020.0</td>\n",
       "      <td>2.0</td>\n",
       "      <td>7.0</td>\n",
       "      <td>...</td>\n",
       "      <td>9.0</td>\n",
       "      <td>1.0</td>\n",
       "      <td>NaN</td>\n",
       "      <td>NaN</td>\n",
       "      <td>NaN</td>\n",
       "      <td>NaN</td>\n",
       "      <td>NaN</td>\n",
       "      <td>NaN</td>\n",
       "      <td>NaN</td>\n",
       "      <td>NaN</td>\n",
       "    </tr>\n",
       "    <tr>\n",
       "      <th>126</th>\n",
       "      <td>2020-0051-SWE</td>\n",
       "      <td>Storm 'Ciara' (Sabine)</td>\n",
       "      <td>51.0</td>\n",
       "      <td>2020.0</td>\n",
       "      <td>Sweden</td>\n",
       "      <td>Northern Europe</td>\n",
       "      <td>NaN</td>\n",
       "      <td>2020.0</td>\n",
       "      <td>2.0</td>\n",
       "      <td>7.0</td>\n",
       "      <td>...</td>\n",
       "      <td>9.0</td>\n",
       "      <td>1.0</td>\n",
       "      <td>NaN</td>\n",
       "      <td>NaN</td>\n",
       "      <td>NaN</td>\n",
       "      <td>NaN</td>\n",
       "      <td>NaN</td>\n",
       "      <td>NaN</td>\n",
       "      <td>NaN</td>\n",
       "      <td>NaN</td>\n",
       "    </tr>\n",
       "    <tr>\n",
       "      <th>127</th>\n",
       "      <td>2021-0320-UKR</td>\n",
       "      <td>NaN</td>\n",
       "      <td>320.0</td>\n",
       "      <td>2021.0</td>\n",
       "      <td>Ukraine</td>\n",
       "      <td>Eastern Europe</td>\n",
       "      <td>NaN</td>\n",
       "      <td>2021.0</td>\n",
       "      <td>6.0</td>\n",
       "      <td>17.0</td>\n",
       "      <td>...</td>\n",
       "      <td>18.0</td>\n",
       "      <td>1.0</td>\n",
       "      <td>NaN</td>\n",
       "      <td>1700.0</td>\n",
       "      <td>NaN</td>\n",
       "      <td>1700.0</td>\n",
       "      <td>NaN</td>\n",
       "      <td>NaN</td>\n",
       "      <td>170000.0</td>\n",
       "      <td>170000.0</td>\n",
       "    </tr>\n",
       "  </tbody>\n",
       "</table>\n",
       "<p>128 rows × 22 columns</p>\n",
       "</div>"
      ],
      "text/plain": [
       "            Dis No               Event Name    Seq    Year  \\\n",
       "0    1998-0007-GBR  Cilly, Désirée et Fanny    7.0  1998.0   \n",
       "1    1998-0436-BEL    Cilly, Desiree, Fanny  436.0  1998.0   \n",
       "2    1998-0436-CHE    Cilly, Desiree, Fanny  436.0  1998.0   \n",
       "3    1999-0571-BEL                   Lothar  571.0  1999.0   \n",
       "4    1999-0571-CHE                   Lothar  571.0  1999.0   \n",
       "..             ...                      ...    ...     ...   \n",
       "123  2019-0626-PRT             Elsa, Fabien  626.0  2019.0   \n",
       "124  2020-0051-POL   Storm 'Ciara' (Sabine)   51.0  2020.0   \n",
       "125  2020-0051-SVN   Storm 'Ciara' (Sabine)   51.0  2020.0   \n",
       "126  2020-0051-SWE   Storm 'Ciara' (Sabine)   51.0  2020.0   \n",
       "127  2021-0320-UKR                      NaN  320.0  2021.0   \n",
       "\n",
       "                                               Country           Region  \\\n",
       "0    United Kingdom of Great Britain and Northern I...  Northern Europe   \n",
       "1                                              Belgium   Western Europe   \n",
       "2                                          Switzerland   Western Europe   \n",
       "3                                              Belgium   Western Europe   \n",
       "4                                          Switzerland   Western Europe   \n",
       "..                                                 ...              ...   \n",
       "123                                           Portugal  Southern Europe   \n",
       "124                                             Poland   Eastern Europe   \n",
       "125                                           Slovenia  Southern Europe   \n",
       "126                                             Sweden  Northern Europe   \n",
       "127                                            Ukraine   Eastern Europe   \n",
       "\n",
       "     Dis Mag Value  Start Year  Start Month  Start Day  ...  End Day  \\\n",
       "0            185.0      1998.0          1.0        1.0  ...      6.0   \n",
       "1              NaN      1998.0          1.0        1.0  ...      6.0   \n",
       "2              NaN      1998.0          1.0        1.0  ...      6.0   \n",
       "3              NaN      1999.0         12.0       25.0  ...     27.0   \n",
       "4            210.0      1999.0         12.0       25.0  ...     27.0   \n",
       "..             ...         ...          ...        ...  ...      ...   \n",
       "123            NaN      2019.0         12.0       19.0  ...     22.0   \n",
       "124            NaN      2020.0          2.0        8.0  ...      9.0   \n",
       "125            NaN      2020.0          2.0        7.0  ...      9.0   \n",
       "126            NaN      2020.0          2.0        7.0  ...      9.0   \n",
       "127            NaN      2021.0          6.0       17.0  ...     18.0   \n",
       "\n",
       "     Total Deaths  No Injured  No Affected  No Homeless  Total Affected  \\\n",
       "0            15.0         NaN       3000.0          NaN          3000.0   \n",
       "1             NaN         NaN          NaN          NaN             NaN   \n",
       "2             NaN         NaN          NaN          NaN             NaN   \n",
       "3             2.0         NaN          NaN          NaN             NaN   \n",
       "4            12.0         NaN          NaN          NaN             NaN   \n",
       "..            ...         ...          ...          ...             ...   \n",
       "123           2.0         NaN          NaN          NaN             NaN   \n",
       "124           3.0         6.0          NaN          NaN             6.0   \n",
       "125           1.0         NaN          NaN          NaN             NaN   \n",
       "126           1.0         NaN          NaN          NaN             NaN   \n",
       "127           1.0         NaN       1700.0          NaN          1700.0   \n",
       "\n",
       "     Reconstruction Costs ('000 US$)  Insured Damages ('000 US$)  \\\n",
       "0                                NaN                    320000.0   \n",
       "1                                NaN                         NaN   \n",
       "2                                NaN                         NaN   \n",
       "3                                NaN                     10000.0   \n",
       "4                                NaN                    800000.0   \n",
       "..                               ...                         ...   \n",
       "123                              NaN                         NaN   \n",
       "124                              NaN                         NaN   \n",
       "125                              NaN                         NaN   \n",
       "126                              NaN                         NaN   \n",
       "127                              NaN                         NaN   \n",
       "\n",
       "     Total Damages ('000 US$)  Total Damages, Adjusted ('000 US$)  \n",
       "0                    500000.0                            831153.0  \n",
       "1                       500.0                               831.0  \n",
       "2                      1000.0                              1662.0  \n",
       "3                     50000.0                             81336.0  \n",
       "4                   1500000.0                           2440069.0  \n",
       "..                        ...                                 ...  \n",
       "123                       NaN                                 NaN  \n",
       "124                       NaN                                 NaN  \n",
       "125                       NaN                                 NaN  \n",
       "126                       NaN                                 NaN  \n",
       "127                  170000.0                            170000.0  \n",
       "\n",
       "[128 rows x 22 columns]"
      ]
     },
     "execution_count": 19,
     "metadata": {},
     "output_type": "execute_result"
    }
   ],
   "source": [
    "ETC_small"
   ]
  },
  {
   "cell_type": "code",
   "execution_count": 20,
   "metadata": {},
   "outputs": [],
   "source": [
    "#build time index\n",
    "dft_start = pd.DataFrame(\n",
    "\n",
    "    {\"year\": ETC_small['Start Year'], \"month\": ETC_small['Start Month'], \"day\": ETC_small['Start Day']}\n",
    "\n",
    ")\n",
    "dft_end = pd.DataFrame(\n",
    "\n",
    "    {\"year\": ETC_small['End Year'], \"month\": ETC_small['End Month'], \"day\": ETC_small['End Day']}\n",
    "\n",
    ")\n",
    "dti_start = pd.to_datetime(dft_start)\n",
    "dti_end= pd.to_datetime(dft_end)\n"
   ]
  },
  {
   "cell_type": "code",
   "execution_count": 21,
   "metadata": {},
   "outputs": [],
   "source": [
    "# resample to daily\n",
    "ETC_dmg = ETC_small['Total Damages, Adjusted (\\'000 US$)']\n",
    "ETC_dmg.index = dti_start"
   ]
  },
  {
   "cell_type": "code",
   "execution_count": 22,
   "metadata": {},
   "outputs": [
    {
     "name": "stdout",
     "output_type": "stream",
     "text": [
      "Events with total damages estimation: 76\n"
     ]
    }
   ],
   "source": [
    "#count events with damages\n",
    "ETC_dmg_nona = ETC_dmg.dropna()\n",
    "nev_nona = len(ETC_dmg_nona)\n",
    "print(\"Events with total damages estimation: \"+str(nev_nona))\n"
   ]
  },
  {
   "cell_type": "code",
   "execution_count": 23,
   "metadata": {},
   "outputs": [
    {
     "name": "stdout",
     "output_type": "stream",
     "text": [
      "Daily events registered in the database: 28\n"
     ]
    }
   ],
   "source": [
    "nevents = len(ETC_dmg_nona.index.unique())\n",
    "print(\"Daily events registered in the database: \"+str(nevents))"
   ]
  },
  {
   "cell_type": "code",
   "execution_count": 24,
   "metadata": {},
   "outputs": [
    {
     "data": {
      "text/plain": [
       "DatetimeIndex(['1998-01-01', '1999-12-25', '1999-12-26', '1999-12-24',\n",
       "               '1999-12-04', '1999-12-03', '1999-12-27', '2002-10-27',\n",
       "               '2002-10-26', '2003-01-02', '2005-01-07', '2005-01-08',\n",
       "               '2005-01-13', '2007-01-17', '2007-01-18', '2007-01-19',\n",
       "               '2008-02-29', '2009-01-23', '2008-03-01', '2010-02-28',\n",
       "               '2010-02-27', '2013-12-04', '2014-02-14', '2017-03-06',\n",
       "               '2018-01-17', '2018-10-29', '2020-01-19', '2021-06-17'],\n",
       "              dtype='datetime64[ns]', freq=None)"
      ]
     },
     "execution_count": 24,
     "metadata": {},
     "output_type": "execute_result"
    }
   ],
   "source": [
    "ETC_dmg_nona.index.unique()"
   ]
  },
  {
   "cell_type": "code",
   "execution_count": 25,
   "metadata": {},
   "outputs": [],
   "source": [
    "#daily resample\n",
    "ETC_dmg_daily = ETC_dmg.resample(\"1D\").sum()\n",
    "ETC_dmg_yearly = ETC_dmg.resample(\"1Y\").sum()"
   ]
  },
  {
   "cell_type": "code",
   "execution_count": 33,
   "metadata": {},
   "outputs": [
    {
     "data": {
      "text/plain": [
       "24"
      ]
     },
     "execution_count": 33,
     "metadata": {},
     "output_type": "execute_result"
    }
   ],
   "source": [
    "len(ETC_dmg_daily.where(ETC_dmg_daily>1E5).dropna())"
   ]
  },
  {
   "cell_type": "code",
   "execution_count": 26,
   "metadata": {},
   "outputs": [
    {
     "name": "stdout",
     "output_type": "stream",
     "text": [
      "Minimum recorded damages: 9.11E+06\n",
      "Maximum recorded damages: 1.30E+10\n"
     ]
    }
   ],
   "source": [
    "min_dmg = ETC_dmg_daily.where(ETC_dmg_daily>0).min()\n",
    "max_dmg = ETC_dmg_daily.where(ETC_dmg_daily>0).max()\n",
    "\n",
    "print(\"Minimum recorded damages: \"+format(1000*min_dmg,'.2E'))\n",
    "print(\"Maximum recorded damages: \"+format(1000*max_dmg,'.2E'))"
   ]
  },
  {
   "cell_type": "code",
   "execution_count": 41,
   "metadata": {},
   "outputs": [
    {
     "name": "stdout",
     "output_type": "stream",
     "text": [
      "24\n"
     ]
    },
    {
     "data": {
      "text/plain": [
       "15"
      ]
     },
     "execution_count": 41,
     "metadata": {},
     "output_type": "execute_result"
    }
   ],
   "source": [
    "print(len(ETC_dmg_yearly))\n",
    "len(ETC_dmg_yearly[ETC_dmg_yearly>0])"
   ]
  },
  {
   "cell_type": "code",
   "execution_count": 39,
   "metadata": {},
   "outputs": [
    {
     "name": "stdout",
     "output_type": "stream",
     "text": [
      "AAI aggregated: 3.074E+09 USD\n",
      "Total damages: 7.377E+10 USD\n"
     ]
    }
   ],
   "source": [
    "aai_agg = ETC_dmg_yearly.mean()\n",
    "tot_damages = ETC_dmg_yearly.sum()\n",
    "print('AAI aggregated: '+format(1000*aai_agg,'.3E')+' USD')\n",
    "print('Total damages: '+format(1000*tot_damages,'.3E')+' USD')\n"
   ]
  },
  {
   "cell_type": "code",
   "execution_count": 43,
   "metadata": {},
   "outputs": [
    {
     "data": {
      "text/plain": [
       "3073582.5"
      ]
     },
     "execution_count": 43,
     "metadata": {},
     "output_type": "execute_result"
    }
   ],
   "source": [
    "aai_agg"
   ]
  },
  {
   "cell_type": "code",
   "execution_count": 76,
   "metadata": {},
   "outputs": [
    {
     "data": {
      "text/plain": [
       "<AxesSubplot:>"
      ]
     },
     "execution_count": 76,
     "metadata": {},
     "output_type": "execute_result"
    },
    {
     "data": {
      "image/png": "[encoded data removed]",
      "text/plain": [
       "<Figure size 432x288 with 1 Axes>"
      ]
     },
     "metadata": {
      "needs_background": "light"
     },
     "output_type": "display_data"
    }
   ],
   "source": [
    "ETC_dmg_yearly[ETC_dmg_yearly>0].hist()"
   ]
  },
  {
   "cell_type": "code",
   "execution_count": 97,
   "metadata": {},
   "outputs": [
    {
     "data": {
      "text/plain": [
       "Text(0.5, 0, \"log of yearly damages ('000 USD)\")"
      ]
     },
     "execution_count": 97,
     "metadata": {},
     "output_type": "execute_result"
    },
    {
     "data": {
      "image/png": "[encoded data removed]",
      "text/plain": [
       "<Figure size 432x288 with 1 Axes>"
      ]
     },
     "metadata": {
      "needs_background": "light"
     },
     "output_type": "display_data"
    }
   ],
   "source": [
    "ETC_dmg_yearly_nozero = ETC_dmg_yearly[ETC_dmg_yearly>0] #take only values above 0\n",
    "ETC_dmg_yearly_log = ETC_dmg_yearly_nozero.apply(np.log)\n",
    "ETC_dmg_yearly_log.hist(rwidth=0.8,density=True)\n",
    "plt.ylabel('density')\n",
    "plt.xlabel('log of yearly damages (\\'000 USD)')"
   ]
  },
  {
   "cell_type": "code",
   "execution_count": 135,
   "metadata": {},
   "outputs": [
    {
     "data": {
      "text/plain": [
       "11"
      ]
     },
     "execution_count": 135,
     "metadata": {},
     "output_type": "execute_result"
    }
   ],
   "source": [
    "len(bins)"
   ]
  },
  {
   "cell_type": "code",
   "execution_count": 150,
   "metadata": {},
   "outputs": [
    {
     "data": {
      "image/png": "[encoded data removed]",
      "text/plain": [
       "<Figure size 432x288 with 1 Axes>"
      ]
     },
     "metadata": {
      "needs_background": "light"
     },
     "output_type": "display_data"
    },
    {
     "data": {
      "image/png": "[encoded data removed]",
      "text/plain": [
       "<Figure size 432x288 with 1 Axes>"
      ]
     },
     "metadata": {
      "needs_background": "light"
     },
     "output_type": "display_data"
    }
   ],
   "source": [
    "ETC_dmg_yearly_nozero = ETC_dmg_yearly[ETC_dmg_yearly>0] \n",
    "ETC_dmg_yearly_nozero = 1000*ETC_dmg_yearly_nozero\n",
    "plt.figure()\n",
    "hist, bins, _ = plt.hist(ETC_dmg_yearly_nozero.values,rwidth=0.8)\n",
    "logbins = np.logspace(np.log10(bins[0]),np.log10(bins[-1]),len(bins))\n",
    "logbins[-1] = logbins[-1]+10 #otherwise lastdatapoint is missing\n",
    "fig = plt.figure()\n",
    "plt.hist(ETC_dmg_yearly_nozero.values, bins=logbins,rwidth=0.85)\n",
    "aai_agg_str = 'AAI aggregated: '+format(1000*aai_agg,'.3E')+' USD'\n",
    "plt.vlines(1000*aai_agg,0,4,color='red',linestyles='dashed',label=aai_agg_str)\n",
    "plt.xscale('log')\n",
    "plt.ylim([0,4.1])\n",
    "plt.ylabel(\"count\")\n",
    "plt.xlabel(\"EU yearly winter storm losses 1998-2021 [USD]\")\n",
    "plt.legend()\n",
    "fig.savefig(\"./results/figures/EMDAT/hist_yearly_losses_EMDAT.png\",transparent=False)\n"
   ]
  },
  {
   "cell_type": "code",
   "execution_count": 77,
   "metadata": {},
   "outputs": [
    {
     "data": {
      "text/plain": [
       "<AxesSubplot:>"
      ]
     },
     "execution_count": 77,
     "metadata": {},
     "output_type": "execute_result"
    },
    {
     "data": {
      "image/png": "[encoded data removed]",
      "text/plain": [
       "<Figure size 432x288 with 1 Axes>"
      ]
     },
     "metadata": {
      "needs_background": "light"
     },
     "output_type": "display_data"
    }
   ],
   "source": [
    "ETC_dmg_daily_log = ETC_dmg_daily[ETC_dmg_daily>0] #take only values above 0\n",
    "ETC_dmg_daily_log = ETC_dmg_daily_log.apply(np.log)\n",
    "ETC_dmg_daily_log.hist()"
   ]
  },
  {
   "cell_type": "code",
   "execution_count": 20,
   "metadata": {},
   "outputs": [
    {
     "name": "stdout",
     "output_type": "stream",
     "text": [
      "Nb of days with total damages estimation: 28\n"
     ]
    }
   ],
   "source": [
    "#days with non 0 damages\n",
    "ndays_nona = len(ETC_dmg_daily.where(ETC_dmg_daily>0).dropna())\n",
    "print(\"Nb of days with total damages estimation: \"+str(ndays_nona))"
   ]
  },
  {
   "cell_type": "code",
   "execution_count": 21,
   "metadata": {},
   "outputs": [
    {
     "data": {
      "text/plain": [
       "<AxesSubplot:>"
      ]
     },
     "execution_count": 21,
     "metadata": {},
     "output_type": "execute_result"
    },
    {
     "data": {
      "image/png": "[encoded data removed]",
      "text/plain": [
       "<Figure size 1080x720 with 1 Axes>"
      ]
     },
     "metadata": {
      "needs_background": "light"
     },
     "output_type": "display_data"
    }
   ],
   "source": [
    "ETC_dmg_daily.plot(figsize=(15,10))"
   ]
  },
  {
   "cell_type": "code",
   "execution_count": 22,
   "metadata": {},
   "outputs": [
    {
     "name": "stdout",
     "output_type": "stream",
     "text": [
      "Proportion non-missing data: 0.55\n"
     ]
    }
   ],
   "source": [
    "tot_dam_raw = ETC_data.loc[:,'Total Damages (\\'000 US$)']\n",
    "ndata_raw = len(tot_dam_raw)\n",
    "tot_dam = tot_dam_raw.dropna()\n",
    "ndata = len(tot_dam)\n",
    "print('Proportion non-missing data: {:.2f}'.format(ndata/ndata_raw))\n"
   ]
  },
  {
   "cell_type": "code",
   "execution_count": 23,
   "metadata": {},
   "outputs": [
    {
     "name": "stdout",
     "output_type": "stream",
     "text": [
      "Total damages in bilion USD: 51.9776\n"
     ]
    }
   ],
   "source": [
    "print('Total damages in bilion USD: {:.4f}'.format(tot_dam.sum()/10**6))\n"
   ]
  },
  {
   "cell_type": "code",
   "execution_count": 24,
   "metadata": {},
   "outputs": [],
   "source": [
    "yearly_damage = ETC_data.pivot(index=\"Year\", columns=\"Dis No\", values=\"Total Damages ('000 US$)\")\n"
   ]
  },
  {
   "cell_type": "code",
   "execution_count": 26,
   "metadata": {},
   "outputs": [],
   "source": [
    "newid = pd.MultiIndex.from_frame(ETC_data.loc[:,(\"Year\",\"Dis No\")])\n"
   ]
  },
  {
   "cell_type": "code",
   "execution_count": 27,
   "metadata": {},
   "outputs": [],
   "source": [
    "yrly_dam = ETC_data.loc[:,\"Total Damages ('000 US$)\"].copy()\n",
    "yrly_dam.index = newid"
   ]
  }
 ],
 "metadata": {
  "kernelspec": {
   "display_name": "Python [conda env:.conda-climada_env]",
   "language": "python",
   "name": "conda-env-.conda-climada_env-py"
  },
  "language_info": {
   "codemirror_mode": {
    "name": "ipython",
    "version": 3
   },
   "file_extension": ".py",
   "mimetype": "text/x-python",
   "name": "python",
   "nbconvert_exporter": "python",
   "pygments_lexer": "ipython3",
   "version": "3.8.12"
  }
 },
 "nbformat": 4,
 "nbformat_minor": 4
}
